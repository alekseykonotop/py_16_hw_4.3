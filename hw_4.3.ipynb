{
 "cells": [
  {
   "cell_type": "code",
   "execution_count": 45,
   "metadata": {},
   "outputs": [],
   "source": [
    "import requests\n",
    "\n",
    "import pandas as pd\n",
    "import numpy as np\n",
    "\n",
    "import matplotlib.pyplot as plt\n",
    "\n",
    "%matplotlib inline\n",
    "\n",
    "import time"
   ]
  },
  {
   "cell_type": "code",
   "execution_count": 42,
   "metadata": {},
   "outputs": [],
   "source": [
    "def call_api(uri, result_key):\n",
    "    json = {}\n",
    "    try:\n",
    "        json = requests.get(uri, headers = {'X-Auth-Token': '6343e2401b274e4b9d3233b7291115e5' }).json()\n",
    "        return json[result_key]\n",
    "    except:\n",
    "        print(json)\n",
    "        return None"
   ]
  },
  {
   "cell_type": "code",
   "execution_count": 46,
   "metadata": {},
   "outputs": [
    {
     "data": {
      "text/plain": [
       "[{'_links': {'self': {'href': 'http://api.football-data.org/v1/teams/496'},\n",
       "   'fixtures': {'href': 'http://api.football-data.org/v1/teams/496/fixtures'},\n",
       "   'players': {'href': 'http://api.football-data.org/v1/teams/496/players'}},\n",
       "  'name': 'FC Rio Ave',\n",
       "  'code': None,\n",
       "  'shortName': 'Rio Ave',\n",
       "  'squadMarketValue': None,\n",
       "  'crestUrl': 'http://upload.wikimedia.org/wikipedia/de/6/63/Rio_Ave_FC.svg'},\n",
       " {'_links': {'self': {'href': 'http://api.football-data.org/v1/teams/503'},\n",
       "   'fixtures': {'href': 'http://api.football-data.org/v1/teams/503/fixtures'},\n",
       "   'players': {'href': 'http://api.football-data.org/v1/teams/503/players'}},\n",
       "  'name': 'FC Porto',\n",
       "  'code': 'FCP',\n",
       "  'shortName': 'Porto',\n",
       "  'squadMarketValue': None,\n",
       "  'crestUrl': 'http://upload.wikimedia.org/wikipedia/de/e/ed/FC_Porto_1922-2005.svg'},\n",
       " {'_links': {'self': {'href': 'http://api.football-data.org/v1/teams/583'},\n",
       "   'fixtures': {'href': 'http://api.football-data.org/v1/teams/583/fixtures'},\n",
       "   'players': {'href': 'http://api.football-data.org/v1/teams/583/players'}},\n",
       "  'name': 'Moreirense FC',\n",
       "  'code': None,\n",
       "  'shortName': 'Moreirense',\n",
       "  'squadMarketValue': None,\n",
       "  'crestUrl': 'https://upload.wikimedia.org/wikipedia/pt/8/8c/Logo_Moreirense.svg'},\n",
       " {'_links': {'self': {'href': 'http://api.football-data.org/v1/teams/507'},\n",
       "   'fixtures': {'href': 'http://api.football-data.org/v1/teams/507/fixtures'},\n",
       "   'players': {'href': 'http://api.football-data.org/v1/teams/507/players'}},\n",
       "  'name': 'FC Paços de Ferreira',\n",
       "  'code': None,\n",
       "  'shortName': 'Ferreira',\n",
       "  'squadMarketValue': None,\n",
       "  'crestUrl': 'http://upload.wikimedia.org/wikipedia/de/f/f2/FC_Pacos_de_Ferreira.svg'},\n",
       " {'_links': {'self': {'href': 'http://api.football-data.org/v1/teams/498'},\n",
       "   'fixtures': {'href': 'http://api.football-data.org/v1/teams/498/fixtures'},\n",
       "   'players': {'href': 'http://api.football-data.org/v1/teams/498/players'}},\n",
       "  'name': 'Sporting CP',\n",
       "  'code': 'SCP',\n",
       "  'shortName': 'Sporting',\n",
       "  'squadMarketValue': None,\n",
       "  'crestUrl': 'https://upload.wikimedia.org/wikipedia/en/3/3e/Sporting_Clube_de_Portugal.png'},\n",
       " {'_links': {'self': {'href': 'http://api.football-data.org/v1/teams/504'},\n",
       "   'fixtures': {'href': 'http://api.football-data.org/v1/teams/504/fixtures'},\n",
       "   'players': {'href': 'http://api.football-data.org/v1/teams/504/players'}},\n",
       "  'name': 'Maritimo Funchal',\n",
       "  'code': None,\n",
       "  'shortName': 'M Funchal',\n",
       "  'squadMarketValue': None,\n",
       "  'crestUrl': 'http://upload.wikimedia.org/wikipedia/de/3/3b/Marítimo_Funchal.svg'},\n",
       " {'_links': {'self': {'href': 'http://api.football-data.org/v1/teams/1049'},\n",
       "   'fixtures': {'href': 'http://api.football-data.org/v1/teams/1049/fixtures'},\n",
       "   'players': {'href': 'http://api.football-data.org/v1/teams/1049/players'}},\n",
       "  'name': 'CD Tondela',\n",
       "  'code': None,\n",
       "  'shortName': 'Tondela',\n",
       "  'squadMarketValue': None,\n",
       "  'crestUrl': 'https://upload.wikimedia.org/wikipedia/commons/f/fc/Emblema_CD_Tondela.png'},\n",
       " {'_links': {'self': {'href': 'http://api.football-data.org/v1/teams/495'},\n",
       "   'fixtures': {'href': 'http://api.football-data.org/v1/teams/495/fixtures'},\n",
       "   'players': {'href': 'http://api.football-data.org/v1/teams/495/players'}},\n",
       "  'name': 'SL Benfica',\n",
       "  'code': 'SLB',\n",
       "  'shortName': 'Lisbon',\n",
       "  'squadMarketValue': None,\n",
       "  'crestUrl': 'http://upload.wikimedia.org/wikipedia/de/8/89/Logo_Benfica_Lissabon.svg'},\n",
       " {'_links': {'self': {'href': 'http://api.football-data.org/v1/teams/810'},\n",
       "   'fixtures': {'href': 'http://api.football-data.org/v1/teams/810/fixtures'},\n",
       "   'players': {'href': 'http://api.football-data.org/v1/teams/810/players'}},\n",
       "  'name': 'Boavista Porto FC',\n",
       "  'code': None,\n",
       "  'shortName': 'Boavista',\n",
       "  'squadMarketValue': None,\n",
       "  'crestUrl': 'http://upload.wikimedia.org/wikipedia/en/4/40/Boavista_F.C._logo.svg'},\n",
       " {'_links': {'self': {'href': 'http://api.football-data.org/v1/teams/712'},\n",
       "   'fixtures': {'href': 'http://api.football-data.org/v1/teams/712/fixtures'},\n",
       "   'players': {'href': 'http://api.football-data.org/v1/teams/712/players'}},\n",
       "  'name': 'FC Arouca',\n",
       "  'code': None,\n",
       "  'shortName': 'Arouca',\n",
       "  'squadMarketValue': None,\n",
       "  'crestUrl': 'http://upload.wikimedia.org/wikipedia/de/b/b4/FC_Arouca.png'},\n",
       " {'_links': {'self': {'href': 'http://api.football-data.org/v1/teams/506'},\n",
       "   'fixtures': {'href': 'http://api.football-data.org/v1/teams/506/fixtures'},\n",
       "   'players': {'href': 'http://api.football-data.org/v1/teams/506/players'}},\n",
       "  'name': 'Vitoria Setubal',\n",
       "  'code': None,\n",
       "  'shortName': 'Setubal',\n",
       "  'squadMarketValue': None,\n",
       "  'crestUrl': 'http://upload.wikimedia.org/wikipedia/de/b/bd/Vitória_Setúbal.svg'},\n",
       " {'_links': {'self': {'href': 'http://api.football-data.org/v1/teams/711'},\n",
       "   'fixtures': {'href': 'http://api.football-data.org/v1/teams/711/fixtures'},\n",
       "   'players': {'href': 'http://api.football-data.org/v1/teams/711/players'}},\n",
       "  'name': 'C.F. Os Belenenses',\n",
       "  'code': None,\n",
       "  'shortName': 'B. Lisbon',\n",
       "  'squadMarketValue': None,\n",
       "  'crestUrl': 'http://upload.wikimedia.org/wikipedia/de/d/db/Belenenses_Lissabon.svg'},\n",
       " {'_links': {'self': {'href': 'http://api.football-data.org/v1/teams/502'},\n",
       "   'fixtures': {'href': 'http://api.football-data.org/v1/teams/502/fixtures'},\n",
       "   'players': {'href': 'http://api.football-data.org/v1/teams/502/players'}},\n",
       "  'name': 'Vitoria Guimaraes',\n",
       "  'code': None,\n",
       "  'shortName': 'Guimares',\n",
       "  'squadMarketValue': None,\n",
       "  'crestUrl': 'http://upload.wikimedia.org/wikipedia/de/8/81/Vitoria_Guimaraes.svg'},\n",
       " {'_links': {'self': {'href': 'http://api.football-data.org/v1/teams/497'},\n",
       "   'fixtures': {'href': 'http://api.football-data.org/v1/teams/497/fixtures'},\n",
       "   'players': {'href': 'http://api.football-data.org/v1/teams/497/players'}},\n",
       "  'name': 'Sporting Braga',\n",
       "  'code': None,\n",
       "  'shortName': 'Braga',\n",
       "  'squadMarketValue': None,\n",
       "  'crestUrl': 'http://upload.wikimedia.org/wikipedia/de/f/f3/Sporting_Clube_de_Braga.svg'},\n",
       " {'_links': {'self': {'href': 'http://api.football-data.org/v1/teams/582'},\n",
       "   'fixtures': {'href': 'http://api.football-data.org/v1/teams/582/fixtures'},\n",
       "   'players': {'href': 'http://api.football-data.org/v1/teams/582/players'}},\n",
       "  'name': 'GD Estoril Praia',\n",
       "  'code': None,\n",
       "  'shortName': 'Estoril',\n",
       "  'squadMarketValue': None,\n",
       "  'crestUrl': 'http://upload.wikimedia.org/wikipedia/de/1/14/GD_Estoril_Praia.svg'},\n",
       " {'_links': {'self': {'href': 'http://api.football-data.org/v1/teams/500'},\n",
       "   'fixtures': {'href': 'http://api.football-data.org/v1/teams/500/fixtures'},\n",
       "   'players': {'href': 'http://api.football-data.org/v1/teams/500/players'}},\n",
       "  'name': 'Feirense',\n",
       "  'code': None,\n",
       "  'shortName': None,\n",
       "  'squadMarketValue': None,\n",
       "  'crestUrl': None},\n",
       " {'_links': {'self': {'href': 'http://api.football-data.org/v1/teams/501'},\n",
       "   'fixtures': {'href': 'http://api.football-data.org/v1/teams/501/fixtures'},\n",
       "   'players': {'href': 'http://api.football-data.org/v1/teams/501/players'}},\n",
       "  'name': 'Nacional Funchal',\n",
       "  'code': None,\n",
       "  'shortName': 'Funchal',\n",
       "  'squadMarketValue': None,\n",
       "  'crestUrl': 'http://upload.wikimedia.org/wikipedia/de/e/ee/Nacional_Funchal.svg'},\n",
       " {'_links': {'self': {'href': 'http://api.football-data.org/v1/teams/1103'},\n",
       "   'fixtures': {'href': 'http://api.football-data.org/v1/teams/1103/fixtures'},\n",
       "   'players': {'href': 'http://api.football-data.org/v1/teams/1103/players'}},\n",
       "  'name': 'G.D. Chaves',\n",
       "  'code': None,\n",
       "  'shortName': 'Chaves',\n",
       "  'squadMarketValue': None,\n",
       "  'crestUrl': 'https://upload.wikimedia.org/wikipedia/en/0/05/G_D_Chaves.png'}]"
      ]
     },
     "execution_count": 46,
     "metadata": {},
     "output_type": "execute_result"
    }
   ],
   "source": [
    "teams = call_api('http://api.football-data.org/v1/soccerseasons/439/teams/?season=2016', 'teams')\n",
    "teams"
   ]
  },
  {
   "cell_type": "code",
   "execution_count": 47,
   "metadata": {},
   "outputs": [
    {
     "name": "stdout",
     "output_type": "stream",
     "text": [
      "['FC Rio Ave', 'FC Porto', 'Moreirense FC', 'FC Paços de Ferreira', 'Sporting CP', 'Maritimo Funchal', 'CD Tondela', 'SL Benfica', 'Boavista Porto FC', 'FC Arouca', 'Vitoria Setubal', 'C.F. Os Belenenses', 'Vitoria Guimaraes', 'Sporting Braga', 'GD Estoril Praia', 'Feirense', 'Nacional Funchal', 'G.D. Chaves']\n",
      "18\n"
     ]
    }
   ],
   "source": [
    "# Выведем для себя список комманд\n",
    "print([team['name'] for team in teams])\n",
    "print(len([team['name'] for team in teams]))"
   ]
  },
  {
   "cell_type": "markdown",
   "metadata": {},
   "source": [
    "Получим данные по стоимости\n"
   ]
  },
  {
   "cell_type": "code",
   "execution_count": null,
   "metadata": {},
   "outputs": [],
   "source": [
    "for team in teams:\n",
    "    market_value = call_api('{0}/?season=2016'.format(team['_links']['squadMarketValue']), 'squadMarketValue'))\n",
    "    time.sleep(4)\n",
    "    team['market_value'] = market_value\n"
   ]
  },
  {
   "cell_type": "markdown",
   "metadata": {},
   "source": [
    "Получим кол-во проигрышей"
   ]
  },
  {
   "cell_type": "code",
   "execution_count": null,
   "metadata": {},
   "outputs": [],
   "source": []
  },
  {
   "cell_type": "markdown",
   "metadata": {},
   "source": [
    "Готовим данные для трансформации в Pandas"
   ]
  },
  {
   "cell_type": "code",
   "execution_count": null,
   "metadata": {},
   "outputs": [],
   "source": [
    "team_for_pd = []\n",
    "for team in teams:\n",
    "    team_for_pd.append({'name': team['name'], 'market_value': team['market_value'], 'goals': team['goals']})\n",
    "team_for_pd"
   ]
  },
  {
   "cell_type": "code",
   "execution_count": null,
   "metadata": {},
   "outputs": [],
   "source": []
  },
  {
   "cell_type": "code",
   "execution_count": null,
   "metadata": {},
   "outputs": [],
   "source": []
  },
  {
   "cell_type": "code",
   "execution_count": null,
   "metadata": {},
   "outputs": [],
   "source": []
  },
  {
   "cell_type": "code",
   "execution_count": null,
   "metadata": {},
   "outputs": [],
   "source": []
  }
 ],
 "metadata": {
  "kernelspec": {
   "display_name": "Python 3",
   "language": "python",
   "name": "python3"
  },
  "language_info": {
   "codemirror_mode": {
    "name": "ipython",
    "version": 3
   },
   "file_extension": ".py",
   "mimetype": "text/x-python",
   "name": "python",
   "nbconvert_exporter": "python",
   "pygments_lexer": "ipython3",
   "version": "3.6.5"
  }
 },
 "nbformat": 4,
 "nbformat_minor": 2
}
